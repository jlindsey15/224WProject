{
 "cells": [
  {
   "cell_type": "code",
   "execution_count": 207,
   "metadata": {},
   "outputs": [
    {
     "name": "stdout",
     "output_type": "stream",
     "text": [
      "The autoreload extension is already loaded. To reload it, use:\n",
      "  %reload_ext autoreload\n"
     ]
    }
   ],
   "source": [
    "from __future__ import print_function\n",
    "import argparse\n",
    "import numpy as np\n",
    "import os\n",
    "import shutil\n",
    "import time\n",
    "import math\n",
    "import matplotlib\n",
    "import matplotlib.pyplot as plt\n",
    "import matplotlib.gridspec as gridspec\n",
    "import os\n",
    "import pickle\n",
    "from benedict import BeneDict\n",
    "import copy\n",
    "import seaborn as sns\n",
    "from scipy.stats.stats import pearsonr\n",
    "from scipy.stats import linregress\n",
    "plt.style.use('seaborn')\n",
    "plt.style.use('seaborn-talk')\n",
    "\n",
    "%matplotlib inline\n",
    "%load_ext autoreload\n",
    "%autoreload 2"
   ]
  },
  {
   "cell_type": "code",
   "execution_count": 208,
   "metadata": {},
   "outputs": [],
   "source": [
    "# Custom code\n",
    "import utils as U\n",
    "from generate_graph_structure import create_adjacency_matrix, flatten_correlation, granger_causality, behavioral_prediction_correlation_wrapper\n",
    "from dataloading import read_from_files, filter_data, normalize_by_behavior_report_type"
   ]
  },
  {
   "cell_type": "code",
   "execution_count": 209,
   "metadata": {},
   "outputs": [
    {
     "name": "stdout",
     "output_type": "stream",
     "text": [
      "Reading files BAYLORGC4_2018_03_20.mat\n"
     ]
    }
   ],
   "source": [
    "savenames = ['BAYLORGC4_2018_03_20.mat',\n",
    "             'BAYLORGC4_2018_03_21.mat',\n",
    "             'BAYLORGC4_2018_03_22.mat',\n",
    "             'BAYLORGC4_2018_03_23.mat',\n",
    "             'BAYLORGC4_2018_03_25.mat',\n",
    "             'BAYLORGC12_2018_04_03.mat',\n",
    "             'BAYLORGC12_2018_04_04.mat',\n",
    "             'BAYLORGC12_2018_04_05.mat',\n",
    "             'BAYLORGC12_2018_04_06.mat',\n",
    "             'BAYLORGC13_2018_04_23.mat',\n",
    "             'BAYLORGC13_2018_04_24.mat',\n",
    "             'BAYLORGC13_2018_04_25.mat',\n",
    "             'BAYLORGC15_2018_05_07.mat',\n",
    "             'BAYLORGC15_2018_05_08.mat',\n",
    "             'BAYLORGC15_2018_05_09.mat',\n",
    "             'BAYLORGC15_2018_05_10.mat',\n",
    "             'BAYLORGC15_2018_05_11.mat',\n",
    "             'BAYLORGC17_2018_06_08.mat',\n",
    "             'BAYLORGC17_2018_06_11.mat',\n",
    "             'BAYLORGC18_2018_05_31.mat',\n",
    "             'BAYLORGC19_2018_06_20.mat',\n",
    "             'BAYLORGC19_2018_06_21.mat',\n",
    "             'BAYLORGC19_2018_06_22.mat'\n",
    "            ]\n",
    "# !!!!! Change here to generate graphs for different sessions\n",
    "all_file_to_read = [savenames[0]]\n",
    "print('Reading files {}'.format(', '.join(all_file_to_read)))\n",
    "all_data = read_from_files(all_file_to_read)"
   ]
  },
  {
   "cell_type": "code",
   "execution_count": 275,
   "metadata": {},
   "outputs": [],
   "source": [
    "# !!!!! Change here to generate graphs for different perturbation conditions\n",
    "\n",
    "# The type of perturbation enforced\n",
    "## 0: no \n",
    "## 1: perturbation of left\n",
    "## 2: perturbation of right\n",
    "## 3: perturbation of both\n",
    "perturbation_type = 3 # or 1, 2, or 3\n",
    "\n",
    "\n",
    "# Only look at success trials when True\n",
    "# When there is bilarteral perturbation, the mice cannot act correctly, so we need to look at unsuccessful trials\n",
    "enforce_task_success = (perturbation_type != 3)\n",
    "# When there is no perturbation\n",
    "if perturbation_type == 0:\n",
    "    time_window = (22,37)\n",
    "else:\n",
    "# when there are perturbations, we use neural signals after the perturbations have ended\n",
    "    time_window = (31,37)"
   ]
  },
  {
   "cell_type": "code",
   "execution_count": 276,
   "metadata": {},
   "outputs": [],
   "source": [
    "## Filter all the data depending on what we want\n",
    "all_data_filtered = [filter_data(data,\n",
    "                                 perturbation_type=perturbation_type,\n",
    "                                 enforce_task_success=enforce_task_success,\n",
    "                                 time_window=time_window) for data in all_data]\n",
    "\n",
    "if perturbation_type != 3:\n",
    "    pass\n",
    "    #all_data_filtered = [normalize_by_behavior_report_type(data) for data in all_data_filtered]\n",
    "else:\n",
    "    pass\n",
    "    #all_data_filtered[0]['train_rates'] -= np.mean(all_data_filtered[0]['train_rates'], axis=0, keepdims=True)"
   ]
  },
  {
   "cell_type": "code",
   "execution_count": 277,
   "metadata": {},
   "outputs": [
    {
     "data": {
      "text/plain": [
       "array([[ 0.6547619 , 13.33333333,  0.23809524,  1.30952381,  4.22619048,\n",
       "        10.05952381,  2.5       , 11.19047619,  1.48809524,  3.03571429,\n",
       "        13.1547619 , 12.55952381,  4.88095238,  0.23809524,  4.16666667,\n",
       "         2.02380952,  2.44047619,  2.61904762,  8.39285714,  7.97619048,\n",
       "        17.61904762, 11.78571429,  3.86904762,  7.97619048, 31.19047619,\n",
       "         2.08333333,  3.98809524, 10.29761905,  9.82142857,  3.86904762,\n",
       "        13.80952381,  8.57142857,  9.64285714,  0.53571429,  8.57142857,\n",
       "        17.73809524,  3.1547619 ,  7.20238095,  3.69047619, 10.05952381,\n",
       "         1.48809524,  9.3452381 ,  0.6547619 ,  0.41666667,  2.26190476,\n",
       "         3.51190476,  7.38095238,  3.57142857,  2.61904762,  8.27380952,\n",
       "         1.19047619,  2.67857143,  1.96428571,  1.36904762,  0.41666667,\n",
       "         3.75      ,  2.85714286, 11.8452381 ,  5.6547619 ,  4.22619048,\n",
       "         6.9047619 ,  1.48809524,  7.02380952,  2.85714286,  7.32142857,\n",
       "         0.41666667,  0.23809524, 11.48809524,  1.72619048,  1.72619048,\n",
       "         1.54761905,  0.23809524,  0.35714286,  6.78571429,  1.25      ,\n",
       "         3.0952381 ,  1.66666667, 10.71428571, 13.75      ,  1.01190476,\n",
       "         0.47619048,  8.27380952,  2.97619048,  2.91666667],\n",
       "       [ 0.41666667, 16.25      ,  0.05952381,  1.13095238,  4.04761905,\n",
       "         8.45238095,  2.5       , 11.96428571,  0.95238095,  3.0952381 ,\n",
       "        13.21428571, 12.85714286,  4.46428571,  0.05952381,  3.57142857,\n",
       "         1.72619048,  2.14285714,  2.38095238,  8.75      ,  8.21428571,\n",
       "        16.78571429, 15.47619048,  3.0952381 ,  7.38095238, 31.96428571,\n",
       "         1.9047619 ,  3.80952381,  9.10714286,  7.91666667,  3.27380952,\n",
       "        14.76190476,  7.38095238,  9.52380952,  0.47619048,  7.20238095,\n",
       "        16.25      ,  2.85714286,  6.42857143,  3.57142857,  8.98809524,\n",
       "         1.8452381 ,  8.80952381,  0.71428571,  0.11904762,  1.60714286,\n",
       "         3.39285714,  7.20238095,  3.27380952,  1.60714286,  8.03571429,\n",
       "         1.42857143,  2.97619048,  2.14285714,  1.42857143,  0.29761905,\n",
       "         4.64285714,  1.72619048, 14.70238095,  4.64285714,  3.98809524,\n",
       "         8.51190476,  1.19047619,  6.54761905,  2.44047619,  6.9047619 ,\n",
       "         0.35714286,  0.23809524,  9.88095238,  1.13095238,  1.54761905,\n",
       "         1.19047619,  0.35714286,  0.23809524,  7.61904762,  1.19047619,\n",
       "         3.57142857,  1.72619048,  9.46428571, 13.0952381 ,  0.77380952,\n",
       "         0.41666667,  8.63095238,  2.38095238,  2.32142857],\n",
       "       [ 0.35714286, 17.91666667,  0.        ,  1.01190476,  2.79761905,\n",
       "         7.14285714,  1.8452381 , 12.91666667,  1.48809524,  3.39285714,\n",
       "        12.91666667, 12.26190476,  4.46428571,  0.05952381,  2.97619048,\n",
       "         1.42857143,  2.08333333,  2.55952381,  8.80952381,  8.92857143,\n",
       "        15.71428571, 15.        ,  2.02380952,  7.26190476, 32.08333333,\n",
       "         1.48809524,  3.63095238,  7.38095238,  6.36904762,  2.32142857,\n",
       "        14.76190476,  6.48809524,  9.94047619,  0.41666667,  6.96428571,\n",
       "        15.17857143,  2.79761905,  6.07142857,  3.0952381 ,  9.58333333,\n",
       "         1.9047619 ,  7.5       ,  0.71428571,  0.17857143,  1.42857143,\n",
       "         2.55952381,  5.71428571,  3.57142857,  1.42857143,  7.5       ,\n",
       "         1.36904762,  2.97619048,  2.08333333,  1.13095238,  0.35714286,\n",
       "         5.41666667,  1.54761905, 16.36904762,  4.28571429,  4.22619048,\n",
       "         8.39285714,  1.19047619,  5.71428571,  1.78571429,  5.89285714,\n",
       "         0.29761905,  0.29761905,  8.51190476,  1.30952381,  1.78571429,\n",
       "         0.77380952,  0.41666667,  0.11904762,  7.38095238,  1.01190476,\n",
       "         3.98809524,  1.54761905,  8.86904762, 13.03571429,  0.95238095,\n",
       "         0.41666667,  9.10714286,  2.26190476,  1.8452381 ],\n",
       "       [ 0.29761905, 17.02380952,  0.        ,  0.6547619 ,  2.02380952,\n",
       "         6.78571429,  1.42857143, 13.51190476,  1.54761905,  3.98809524,\n",
       "        12.44047619, 11.60714286,  4.4047619 ,  0.05952381,  2.79761905,\n",
       "         1.42857143,  1.8452381 ,  2.26190476,  8.51190476,  9.58333333,\n",
       "        15.35714286, 13.63095238,  1.54761905,  6.60714286, 30.71428571,\n",
       "         1.19047619,  3.51190476,  5.77380952,  6.30952381,  1.48809524,\n",
       "        14.46428571,  5.53571429,  9.76190476,  0.5952381 ,  6.54761905,\n",
       "        13.98809524,  3.45238095,  6.72619048,  2.67857143,  9.22619048,\n",
       "         2.38095238,  6.13095238,  0.83333333,  0.17857143,  1.25      ,\n",
       "         2.5       ,  4.82142857,  4.58333333,  1.66666667,  7.55952381,\n",
       "         1.07142857,  2.67857143,  1.72619048,  1.30952381,  0.23809524,\n",
       "         6.42857143,  1.60714286, 17.67857143,  3.45238095,  5.11904762,\n",
       "         8.0952381 ,  1.36904762,  5.53571429,  1.60714286,  5.23809524,\n",
       "         0.29761905,  0.11904762,  8.27380952,  1.60714286,  1.25      ,\n",
       "         0.53571429,  0.53571429,  0.        ,  6.78571429,  0.89285714,\n",
       "         4.28571429,  1.48809524,  7.79761905, 12.44047619,  0.89285714,\n",
       "         0.17857143,  8.98809524,  2.32142857,  1.72619048],\n",
       "       [ 0.        , 16.42857143,  0.        ,  0.5952381 ,  1.72619048,\n",
       "         6.25      ,  0.95238095, 14.22619048,  1.60714286,  4.58333333,\n",
       "        12.67857143, 10.83333333,  4.4047619 ,  0.05952381,  2.67857143,\n",
       "         1.19047619,  1.36904762,  2.26190476,  8.33333333,  9.70238095,\n",
       "        15.89285714, 12.08333333,  1.25      ,  5.83333333, 28.63095238,\n",
       "         1.13095238,  3.57142857,  4.64285714,  6.13095238,  0.89285714,\n",
       "        15.23809524,  5.05952381,  9.46428571,  0.5952381 ,  5.71428571,\n",
       "        13.75      ,  3.1547619 ,  7.20238095,  2.55952381,  8.92857143,\n",
       "         1.96428571,  4.64285714,  1.13095238,  0.11904762,  1.01190476,\n",
       "         2.20238095,  4.22619048,  4.94047619,  1.78571429,  7.32142857,\n",
       "         1.13095238,  2.38095238,  1.42857143,  1.30952381,  0.29761905,\n",
       "         6.54761905,  1.60714286, 18.21428571,  2.85714286,  6.42857143,\n",
       "         7.79761905,  1.72619048,  4.64285714,  1.30952381,  5.        ,\n",
       "         0.05952381,  0.23809524,  5.95238095,  1.78571429,  1.36904762,\n",
       "         0.71428571,  0.41666667,  0.        ,  6.54761905,  1.01190476,\n",
       "         5.47619048,  1.66666667,  7.14285714, 12.79761905,  0.77380952,\n",
       "         0.11904762,  8.69047619,  2.14285714,  1.9047619 ],\n",
       "       [ 0.        , 16.01190476,  0.        ,  0.41666667,  1.36904762,\n",
       "         6.72619048,  0.71428571, 15.35714286,  1.72619048,  4.94047619,\n",
       "        13.27380952,  9.3452381 ,  4.28571429,  0.        ,  2.91666667,\n",
       "         1.42857143,  1.13095238,  2.20238095,  8.21428571,  9.76190476,\n",
       "        15.53571429, 10.29761905,  1.13095238,  5.35714286, 28.0952381 ,\n",
       "         0.89285714,  3.80952381,  4.10714286,  5.89285714,  0.5952381 ,\n",
       "        14.22619048,  5.53571429,  8.86904762,  0.5952381 ,  5.71428571,\n",
       "        12.55952381,  2.91666667,  8.1547619 ,  2.67857143,  9.16666667,\n",
       "         1.48809524,  4.04761905,  1.36904762,  0.05952381,  0.89285714,\n",
       "         2.08333333,  3.92857143,  5.89285714,  2.55952381,  7.08333333,\n",
       "         1.01190476,  2.67857143,  1.25      ,  1.13095238,  0.29761905,\n",
       "         6.30952381,  1.60714286, 17.61904762,  2.67857143,  6.48809524,\n",
       "         5.77380952,  1.9047619 ,  3.57142857,  1.60714286,  4.82142857,\n",
       "         0.05952381,  0.23809524,  5.53571429,  2.02380952,  1.19047619,\n",
       "         0.83333333,  0.5952381 ,  0.        ,  5.41666667,  1.30952381,\n",
       "         6.19047619,  1.42857143,  7.02380952, 12.61904762,  0.89285714,\n",
       "         0.17857143,  8.0952381 ,  1.66666667,  1.96428571]])"
      ]
     },
     "execution_count": 277,
     "metadata": {},
     "output_type": "execute_result"
    }
   ],
   "source": [
    "tr = all_data_filtered[0]['train_rates']\n",
    "np.mean(tr, axis=0)"
   ]
  },
  {
   "cell_type": "code",
   "execution_count": 278,
   "metadata": {},
   "outputs": [
    {
     "name": "stdout",
     "output_type": "stream",
     "text": [
      "33\n",
      "0.8888888888888888\n"
     ]
    }
   ],
   "source": [
    "from sklearn.linear_model import LogisticRegression\n",
    "behavior_report_type = all_data_filtered[0]['behavior_report_type']\n",
    "behavior_report_type = behavior_report_type == 'l'\n",
    "rates = all_data_filtered[0]['train_rates']\n",
    "split = (int)(0.8 * rates.shape[0])\n",
    "print(split)\n",
    "train_rates = rates[:split, -1, :]\n",
    "train_behavior_report_type = behavior_report_type[:split]\n",
    "test_rates = rates[split:, -1, :]\n",
    "test_behavior_report_type = behavior_report_type[split:]\n",
    "reg = LogisticRegression()\n",
    "reg.fit(train_rates, train_behavior_report_type)\n",
    "pred = reg.predict(test_rates)\n",
    "\n",
    "acc = np.sum(pred == test_behavior_report_type) / len(test_behavior_report_type)\n",
    "print(acc)"
   ]
  },
  {
   "cell_type": "code",
   "execution_count": 279,
   "metadata": {},
   "outputs": [
    {
     "data": {
      "image/png": "[encoded data removed]",
      "text/plain": [
       "<matplotlib.figure.Figure at 0x11a45f4a8>"
      ]
     },
     "metadata": {},
     "output_type": "display_data"
    }
   ],
   "source": [
    "def binned(values, value_range):\n",
    "    counts = np.array([0 for x in value_range])\n",
    "    for value in values:\n",
    "        for i in range(len(value_range)):\n",
    "            if value > value_range[i]:\n",
    "                counts[i] += 1\n",
    "    counts = counts[:-1] - counts[1:]\n",
    "    return counts\n",
    "\n",
    "from sklearn.linear_model import LogisticRegression\n",
    "from sklearn.svm import SVC\n",
    "\n",
    "\n",
    "behavior_report_type = all_data_filtered[0]['behavior_report_type']\n",
    "behavior_report_type = behavior_report_type == 'l'\n",
    "rates = all_data_filtered[0]['train_rates']\n",
    "num_neurons = rates.shape[2]\n",
    "accuracies = []\n",
    "for i in range(num_neurons):\n",
    "    train_rates = rates[:, -1, i:i+1]\n",
    "    reg = SVC()\n",
    "    #print(train_rates.shape)\n",
    "    reg.fit(train_rates, behavior_report_type)\n",
    "    pred = reg.predict(train_rates)\n",
    "    #print(pred[0], behavior_report_type[0])\n",
    "    acc = np.sum(pred == behavior_report_type) / len(behavior_report_type)\n",
    "    accuracies.append(acc)\n",
    "accuracies = np.array(accuracies)\n",
    "eps = 0.05\n",
    "value_range = np.linspace(np.min(accuracies) - eps, np.max(accuracies) + eps, 10)\n",
    "x = (value_range[:-1] + value_range[1:]) / 2\n",
    "bins = binned(accuracies, value_range)\n",
    "plt.plot(x, bins)\n",
    "plt.show()\n"
   ]
  },
  {
   "cell_type": "code",
   "execution_count": null,
   "metadata": {},
   "outputs": [],
   "source": []
  },
  {
   "cell_type": "code",
   "execution_count": null,
   "metadata": {},
   "outputs": [],
   "source": []
  },
  {
   "cell_type": "code",
   "execution_count": null,
   "metadata": {},
   "outputs": [],
   "source": []
  }
 ],
 "metadata": {
  "kernelspec": {
   "display_name": "Python 3",
   "language": "python",
   "name": "python3"
  },
  "language_info": {
   "codemirror_mode": {
    "name": "ipython",
    "version": 3
   },
   "file_extension": ".py",
   "mimetype": "text/x-python",
   "name": "python",
   "nbconvert_exporter": "python",
   "pygments_lexer": "ipython3",
   "version": "3.6.1"
  }
 },
 "nbformat": 4,
 "nbformat_minor": 1
}
