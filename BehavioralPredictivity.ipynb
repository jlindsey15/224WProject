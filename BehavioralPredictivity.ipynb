{
 "cells": [
  {
   "cell_type": "code",
   "execution_count": 280,
   "metadata": {},
   "outputs": [
    {
     "name": "stdout",
     "output_type": "stream",
     "text": [
      "The autoreload extension is already loaded. To reload it, use:\n",
      "  %reload_ext autoreload\n"
     ]
    }
   ],
   "source": [
    "from __future__ import print_function\n",
    "import argparse\n",
    "import numpy as np\n",
    "import os\n",
    "import shutil\n",
    "import time\n",
    "import math\n",
    "import matplotlib\n",
    "import matplotlib.pyplot as plt\n",
    "import matplotlib.gridspec as gridspec\n",
    "import os\n",
    "import pickle\n",
    "from benedict import BeneDict\n",
    "import copy\n",
    "import seaborn as sns\n",
    "from scipy.stats.stats import pearsonr\n",
    "from scipy.stats import linregress\n",
    "plt.style.use('seaborn')\n",
    "plt.style.use('seaborn-talk')\n",
    "\n",
    "%matplotlib inline\n",
    "%load_ext autoreload\n",
    "%autoreload 2"
   ]
  },
  {
   "cell_type": "code",
   "execution_count": 281,
   "metadata": {},
   "outputs": [],
   "source": [
    "# Custom code\n",
    "import utils as U\n",
    "from generate_graph_structure import create_adjacency_matrix, flatten_correlation, granger_causality, behavioral_prediction_correlation_wrapper\n",
    "from dataloading import read_from_files, filter_data, normalize_by_behavior_report_type"
   ]
  },
  {
   "cell_type": "code",
   "execution_count": 282,
   "metadata": {},
   "outputs": [
    {
     "name": "stdout",
     "output_type": "stream",
     "text": [
      "Reading files BAYLORGC4_2018_03_20.mat\n"
     ]
    }
   ],
   "source": [
    "savenames = ['BAYLORGC4_2018_03_20.mat',\n",
    "             'BAYLORGC4_2018_03_21.mat',\n",
    "             'BAYLORGC4_2018_03_22.mat',\n",
    "             'BAYLORGC4_2018_03_23.mat',\n",
    "             'BAYLORGC4_2018_03_25.mat',\n",
    "             'BAYLORGC12_2018_04_03.mat',\n",
    "             'BAYLORGC12_2018_04_04.mat',\n",
    "             'BAYLORGC12_2018_04_05.mat',\n",
    "             'BAYLORGC12_2018_04_06.mat',\n",
    "             'BAYLORGC13_2018_04_23.mat',\n",
    "             'BAYLORGC13_2018_04_24.mat',\n",
    "             'BAYLORGC13_2018_04_25.mat',\n",
    "             'BAYLORGC15_2018_05_07.mat',\n",
    "             'BAYLORGC15_2018_05_08.mat',\n",
    "             'BAYLORGC15_2018_05_09.mat',\n",
    "             'BAYLORGC15_2018_05_10.mat',\n",
    "             'BAYLORGC15_2018_05_11.mat',\n",
    "             'BAYLORGC17_2018_06_08.mat',\n",
    "             'BAYLORGC17_2018_06_11.mat',\n",
    "             'BAYLORGC18_2018_05_31.mat',\n",
    "             'BAYLORGC19_2018_06_20.mat',\n",
    "             'BAYLORGC19_2018_06_21.mat',\n",
    "             'BAYLORGC19_2018_06_22.mat'\n",
    "            ]\n",
    "# !!!!! Change here to generate graphs for different sessions\n",
    "all_file_to_read = [savenames[0]]\n",
    "print('Reading files {}'.format(', '.join(all_file_to_read)))\n",
    "all_data = read_from_files(all_file_to_read)"
   ]
  },
  {
   "cell_type": "code",
   "execution_count": 311,
   "metadata": {},
   "outputs": [],
   "source": [
    "# !!!!! Change here to generate graphs for different perturbation conditions\n",
    "\n",
    "# The type of perturbation enforced\n",
    "## 0: no \n",
    "## 1: perturbation of left\n",
    "## 2: perturbation of right\n",
    "## 3: perturbation of both\n",
    "perturbation_type = 0 # or 1, 2, or 3\n",
    "\n",
    "\n",
    "# Only look at success trials when True\n",
    "# When there is bilarteral perturbation, the mice cannot act correctly, so we need to look at unsuccessful trials\n",
    "enforce_task_success = (perturbation_type != 3)\n",
    "# When there is no perturbation\n",
    "if perturbation_type == 0:\n",
    "    time_window = (22,37)\n",
    "else:\n",
    "# when there are perturbations, we use neural signals after the perturbations have ended\n",
    "    time_window = (31,37)"
   ]
  },
  {
   "cell_type": "code",
   "execution_count": 312,
   "metadata": {},
   "outputs": [],
   "source": [
    "## Filter all the data depending on what we want\n",
    "all_data_filtered = [filter_data(data,\n",
    "                                 perturbation_type=perturbation_type,\n",
    "                                 enforce_task_success=enforce_task_success,\n",
    "                                 time_window=time_window) for data in all_data]\n",
    "#all_data_filtered[0]['train_rates'] -= np.mean(all_data_filtered[0]['train_rates'], axis=0, keepdims=True)"
   ]
  },
  {
   "cell_type": "code",
   "execution_count": 313,
   "metadata": {},
   "outputs": [
    {
     "data": {
      "text/plain": [
       "array([[ 0.12931034, 17.88793103,  0.14367816, ...,  8.59195402,\n",
       "         4.61206897,  2.4137931 ],\n",
       "       [ 0.12931034, 17.12643678,  0.11494253, ...,  7.48563218,\n",
       "         4.98563218,  2.11206897],\n",
       "       [ 0.15804598, 14.09482759,  0.11494253, ...,  6.03448276,\n",
       "         4.98563218,  2.09770115],\n",
       "       ...,\n",
       "       [ 0.05747126,  5.76149425,  0.02873563, ...,  9.62643678,\n",
       "         1.95402299,  2.35632184],\n",
       "       [ 0.07183908,  5.17241379,  0.04310345, ..., 10.34482759,\n",
       "         1.6954023 ,  2.57183908],\n",
       "       [ 0.07183908,  4.74137931,  0.02873563, ..., 10.5316092 ,\n",
       "         1.73850575,  2.75862069]])"
      ]
     },
     "execution_count": 313,
     "metadata": {},
     "output_type": "execute_result"
    }
   ],
   "source": [
    "tr = all_data_filtered[0]['train_rates']\n",
    "np.mean(tr, axis=0)"
   ]
  },
  {
   "cell_type": "code",
   "execution_count": 314,
   "metadata": {},
   "outputs": [
    {
     "name": "stdout",
     "output_type": "stream",
     "text": [
      "139\n",
      "0.9428571428571428\n"
     ]
    }
   ],
   "source": [
    "from sklearn.linear_model import LogisticRegression\n",
    "behavior_report_type = all_data_filtered[0]['behavior_report_type']\n",
    "behavior_report_type = behavior_report_type == 'l'\n",
    "rates = all_data_filtered[0]['train_rates']\n",
    "split = (int)(0.8 * rates.shape[0])\n",
    "print(split)\n",
    "train_rates = rates[:split, -1, :]\n",
    "train_behavior_report_type = behavior_report_type[:split]\n",
    "test_rates = rates[split:, -1, :]\n",
    "test_behavior_report_type = behavior_report_type[split:]\n",
    "reg = LogisticRegression()\n",
    "reg.fit(train_rates, train_behavior_report_type)\n",
    "pred = reg.predict(test_rates)\n",
    "\n",
    "acc = np.sum(pred == test_behavior_report_type) / len(test_behavior_report_type)\n",
    "print(acc)"
   ]
  },
  {
   "cell_type": "code",
   "execution_count": 315,
   "metadata": {},
   "outputs": [
    {
     "data": {
      "image/png": "[encoded data removed]",
      "text/plain": [
       "<matplotlib.figure.Figure at 0x1208b0cc0>"
      ]
     },
     "metadata": {},
     "output_type": "display_data"
    }
   ],
   "source": [
    "def binned(values, value_range):\n",
    "    counts = np.array([0 for x in value_range])\n",
    "    for value in values:\n",
    "        for i in range(len(value_range)):\n",
    "            if value > value_range[i]:\n",
    "                counts[i] += 1\n",
    "    counts = counts[:-1] - counts[1:]\n",
    "    return counts\n",
    "\n",
    "from sklearn.linear_model import LogisticRegression\n",
    "from sklearn.svm import SVC\n",
    "\n",
    "\n",
    "behavior_report_type = all_data_filtered[0]['behavior_report_type']\n",
    "behavior_report_type = behavior_report_type == 'l'\n",
    "rates = all_data_filtered[0]['train_rates']\n",
    "num_neurons = rates.shape[2]\n",
    "accuracies = []\n",
    "for i in range(num_neurons):\n",
    "    train_rates = rates[:, -1, i:i+1]\n",
    "    reg = SVC()\n",
    "    #print(train_rates.shape)\n",
    "    reg.fit(train_rates, behavior_report_type)\n",
    "    pred = reg.predict(train_rates)\n",
    "    #print(pred[0], behavior_report_type[0])\n",
    "    acc = np.sum(pred == behavior_report_type) / len(behavior_report_type)\n",
    "    accuracies.append(acc)\n",
    "accuracies = np.array(accuracies)\n",
    "eps = 0.05\n",
    "value_range = np.linspace(np.min(accuracies) - eps, np.max(accuracies) + eps, 10)\n",
    "x = (value_range[:-1] + value_range[1:]) / 2\n",
    "bins = binned(accuracies, value_range)\n",
    "plt.plot(x, bins)\n",
    "plt.title('Distribution of Behavioral Predictivty of Individual Neurons\\n (No Perturbation)')\n",
    "plt.ylabel('Count')\n",
    "plt.xlabel('Predicton Accuracy')\n",
    "plt.show()\n"
   ]
  },
  {
   "cell_type": "code",
   "execution_count": null,
   "metadata": {},
   "outputs": [],
   "source": []
  },
  {
   "cell_type": "code",
   "execution_count": null,
   "metadata": {},
   "outputs": [],
   "source": []
  },
  {
   "cell_type": "code",
   "execution_count": null,
   "metadata": {},
   "outputs": [],
   "source": []
  }
 ],
 "metadata": {
  "kernelspec": {
   "display_name": "Python 3",
   "language": "python",
   "name": "python3"
  },
  "language_info": {
   "codemirror_mode": {
    "name": "ipython",
    "version": 3
   },
   "file_extension": ".py",
   "mimetype": "text/x-python",
   "name": "python",
   "nbconvert_exporter": "python",
   "pygments_lexer": "ipython3",
   "version": "3.6.1"
  }
 },
 "nbformat": 4,
 "nbformat_minor": 1
}
