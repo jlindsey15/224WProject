{
 "cells": [
  {
   "cell_type": "code",
   "execution_count": 1,
   "metadata": {
    "collapsed": false
   },
   "outputs": [],
   "source": [
    "from __future__ import print_function\n",
    "import argparse\n",
    "import numpy as np\n",
    "import os\n",
    "import shutil\n",
    "import time\n",
    "import math\n",
    "import matplotlib\n",
    "import matplotlib.pyplot as plt\n",
    "import matplotlib.gridspec as gridspec\n",
    "import os\n",
    "import pickle\n",
    "from benedict import BeneDict\n",
    "import copy\n",
    "import seaborn as sns\n",
    "from scipy.stats.stats import pearsonr\n",
    "from scipy.stats import linregress\n",
    "plt.style.use('seaborn-muted')\n",
    "plt.style.use('seaborn-talk')\n",
    "\n",
    "%matplotlib inline\n",
    "%load_ext autoreload\n",
    "%autoreload 2"
   ]
  },
  {
   "cell_type": "code",
   "execution_count": 2,
   "metadata": {
    "collapsed": true
   },
   "outputs": [],
   "source": [
    "# Custom code\n",
    "import utils as U\n",
    "from generate_graph_structure import create_adjacency_matrix, flatten_correlation, granger_causality, behavioral_prediction_correlation_wrapper\n",
    "from dataloading import read_from_files, filter_data, normalize_by_behavior_report_type"
   ]
  },
  {
   "cell_type": "code",
   "execution_count": 3,
   "metadata": {
    "collapsed": false
   },
   "outputs": [
    {
     "name": "stdout",
     "output_type": "stream",
     "text": [
      "Reading files BAYLORGC4_2018_03_20.mat, BAYLORGC4_2018_03_21.mat, BAYLORGC4_2018_03_22.mat, BAYLORGC4_2018_03_23.mat\n"
     ]
    }
   ],
   "source": [
    "savenames = ['BAYLORGC4_2018_03_20.mat',\n",
    "             'BAYLORGC4_2018_03_21.mat',\n",
    "             'BAYLORGC4_2018_03_22.mat',\n",
    "             'BAYLORGC4_2018_03_23.mat',\n",
    "#              'BAYLORGC4_2018_03_25.mat',\n",
    "#              'BAYLORGC12_2018_04_03.mat',\n",
    "#              'BAYLORGC12_2018_04_04.mat',\n",
    "#              'BAYLORGC12_2018_04_05.mat',\n",
    "#              'BAYLORGC12_2018_04_06.mat',\n",
    "#              'BAYLORGC13_2018_04_23.mat',\n",
    "#              'BAYLORGC13_2018_04_24.mat',\n",
    "#              'BAYLORGC13_2018_04_25.mat',\n",
    "#              'BAYLORGC15_2018_05_07.mat',\n",
    "#              'BAYLORGC15_2018_05_08.mat',\n",
    "#              'BAYLORGC15_2018_05_09.mat',\n",
    "#              'BAYLORGC15_2018_05_10.mat',\n",
    "#              'BAYLORGC15_2018_05_11.mat',\n",
    "#              'BAYLORGC17_2018_06_08.mat',\n",
    "#              'BAYLORGC17_2018_06_11.mat',\n",
    "#              'BAYLORGC18_2018_05_31.mat',\n",
    "#              'BAYLORGC19_2018_06_20.mat',\n",
    "#              'BAYLORGC19_2018_06_21.mat',\n",
    "#              'BAYLORGC19_2018_06_22.mat'\n",
    "            ]\n",
    "# !!!!! Change here to generate graphs for different sessions\n",
    "# all_file_to_read = [savenames[0]]\n",
    "all_file_to_read = savenames\n",
    "print('Reading files {}'.format(', '.join(all_file_to_read)))\n",
    "all_data = read_from_files(all_file_to_read)"
   ]
  },
  {
   "cell_type": "code",
   "execution_count": 13,
   "metadata": {
    "collapsed": true
   },
   "outputs": [],
   "source": [
    "# !!!!! Change here to generate graphs for different perturbation conditions\n",
    "\n",
    "# The type of perturbation enforced\n",
    "## 0: no \n",
    "## 1: perturbation of left\n",
    "## 2: perturbation of right\n",
    "## 3: perturbation of both\n",
    "perturbation_type = 3 # or 1, 2, or 3\n",
    "perturbation_type_names = ['No Perturbation', 'Left Perturbation', 'Right Perturbation', 'Bilateral Perturbation']\n",
    "perturbation_type_name = perturbation_type_names[perturbation_type]\n",
    "\n",
    "# Only look at success trials when True\n",
    "# When there is bilarteral perturbation, the mice cannot act correctly, so we need to look at unsuccessful trials\n",
    "enforce_task_success = (perturbation_type != 3)\n",
    "# When there is no perturbation\n",
    "if perturbation_type == 0:\n",
    "    time_window = (22,37)\n",
    "else:\n",
    "# when there are perturbations, we use neural signals after the perturbations have ended\n",
    "    time_window = (31,37)"
   ]
  },
  {
   "cell_type": "code",
   "execution_count": 14,
   "metadata": {
    "collapsed": true
   },
   "outputs": [],
   "source": [
    "## Filter all the data depending on what we want\n",
    "all_data_filtered = [filter_data(data,\n",
    "                                 perturbation_type=perturbation_type,\n",
    "                                 enforce_task_success=enforce_task_success,\n",
    "                                 time_window=time_window) for data in all_data]\n",
    "\n"
   ]
  },
  {
   "cell_type": "code",
   "execution_count": 15,
   "metadata": {
    "collapsed": true
   },
   "outputs": [],
   "source": [
    "def binned(values, value_range):\n",
    "    counts = np.array([0 for x in value_range])\n",
    "    for value in values:\n",
    "        for i in range(len(value_range)):\n",
    "            if value > value_range[i]:\n",
    "                counts[i] += 1\n",
    "    counts = counts[:-1] - counts[1:]\n",
    "    return counts"
   ]
  },
  {
   "cell_type": "code",
   "execution_count": 16,
   "metadata": {
    "collapsed": true
   },
   "outputs": [],
   "source": [
    "def plot_edge_weight(mat, neuron_locations, method_name, perturbation_type_name, session_name, eps=0.05):\n",
    "    same_side = []\n",
    "    different_side = []\n",
    "    for i in range(len(mat)):\n",
    "        for j in range(len(mat)):\n",
    "            if i == j:\n",
    "                continue\n",
    "            if neuron_locations[i] == neuron_locations[j]:\n",
    "                same_side.append(mat[i,j])\n",
    "            else:\n",
    "                different_side.append(mat[i,j])\n",
    "    value_range = np.linspace(np.min(mat) - eps, np.max(mat) + eps, 10)\n",
    "    ss_count = binned(same_side, value_range)\n",
    "    ds_count = binned(different_side, value_range)\n",
    "    x = (value_range[:-1] + value_range[1:]) / 2\n",
    "    f = plt.figure()\n",
    "    plt.plot(x, ss_count, label='Same Side')\n",
    "    plt.plot(x, ds_count, label='Different Side')\n",
    "    plt.legend()\n",
    "    plt.xlabel('Edge Weight')\n",
    "    plt.ylabel('Count')\n",
    "    plt.title('Edge Weight Distribution: {} Network\\n ( {} Trials)'.format(method_name, perturbation_type_name), fontsize=12)\n",
    "    plt.tight_layout()\n",
    "    f.savefig('edge-weight-figures/{}-{}.pdf'.format(method_name, perturbation_type_name))\n",
    "    plt.show()"
   ]
  },
  {
   "cell_type": "code",
   "execution_count": null,
   "metadata": {
    "collapsed": false
   },
   "outputs": [
    {
     "name": "stdout",
     "output_type": "stream",
     "text": [
      "N, T, K:  42 6 84\n",
      "(84,)\n",
      "N, T, K:  42 6 84\n",
      "(84,)\n",
      "N, T, K: "
     ]
    }
   ],
   "source": [
    "eps = 0.05\n",
    "neuron_locations = all_data_filtered[0].neuron_locations\n",
    "session_name = all_data_filtered[0].name\n",
    "methods = [flatten_correlation, granger_causality, behavioral_prediction_correlation_wrapper(all_data_filtered[0]['behavior_report_type'])]\n",
    "mats = [create_adjacency_matrix(all_data_filtered[0], edge_weight_func=x, perturbation_type=perturbation_type) for x in methods]\n",
    "method_names = ['Correlation', 'Causality', 'Behavioral Prediction Similarity']\n",
    "\n"
   ]
  },
  {
   "cell_type": "code",
   "execution_count": null,
   "metadata": {
    "collapsed": false,
    "scrolled": false
   },
   "outputs": [],
   "source": [
    "\n",
    "# mat = mat_correlation\n",
    "# neuron_locations = a.neuron_locations\n",
    "# method_name = 'Correlation'\n",
    "\n",
    "for i in range(len(mats)):\n",
    "    mat = mats[i]\n",
    "    method_name = method_names[i]\n",
    "    plot_edge_weight(mat, neuron_locations, method_name, perturbation_type_name, session_name)"
   ]
  },
  {
   "cell_type": "code",
   "execution_count": 18,
   "metadata": {
    "collapsed": false
   },
   "outputs": [
    {
     "name": "stdout",
     "output_type": "stream",
     "text": [
      "(84, 84)\n",
      "(84, 84)\n",
      "(84, 84)\n"
     ]
    }
   ],
   "source": [
    "for i in range(len(mats)):\n",
    "    matrix = mats[i]\n",
    "    print(matrix.shape)\n",
    "    method_name = method_names[i]\n",
    "    np.save(method_name+'_'+perturbation_type_name+'_'+session_name+'.npy', matrix)"
   ]
  },
  {
   "cell_type": "code",
   "execution_count": 19,
   "metadata": {
    "collapsed": false
   },
   "outputs": [
    {
     "name": "stdout",
     "output_type": "stream",
     "text": [
      "[0. 0. 0. 0. 0. 0. 0. 0. 0. 0. 0. 0. 0. 0. 0. 0. 0. 0. 0. 0. 0. 0. 0. 0.\n",
      " 0. 0. 0. 0. 0. 0. 0. 0. 0. 0. 0. 0. 0. 0. 0. 0. 0. 0. 0. 0. 0. 1. 1. 1.\n",
      " 1. 1. 1. 1. 1. 1. 1. 1. 1. 1. 1. 1. 1. 1. 1. 1. 1. 1. 1. 1. 1. 1. 1. 1.\n",
      " 1. 1. 1. 1. 1. 1. 1. 1. 1. 1. 1. 1.]\n",
      "(84,)\n",
      "39.0\n"
     ]
    }
   ],
   "source": [
    "print(neuron_locations)\n",
    "print(neuron_locations.shape)\n",
    "print(np.sum(neuron_locations))"
   ]
  },
  {
   "cell_type": "code",
   "execution_count": null,
   "metadata": {
    "collapsed": true
   },
   "outputs": [],
   "source": []
  }
 ],
 "metadata": {
  "kernelspec": {
   "display_name": "Python 3",
   "language": "python",
   "name": "python3"
  },
  "language_info": {
   "codemirror_mode": {
    "name": "ipython",
    "version": 3
   },
   "file_extension": ".py",
   "mimetype": "text/x-python",
   "name": "python",
   "nbconvert_exporter": "python",
   "pygments_lexer": "ipython3",
   "version": "3.6.1"
  }
 },
 "nbformat": 4,
 "nbformat_minor": 1
}
