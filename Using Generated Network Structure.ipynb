{
 "cells": [
  {
   "cell_type": "code",
   "execution_count": 10,
   "metadata": {
    "collapsed": false
   },
   "outputs": [
    {
     "name": "stdout",
     "output_type": "stream",
     "text": [
      "The autoreload extension is already loaded. To reload it, use:\n",
      "  %reload_ext autoreload\n"
     ]
    }
   ],
   "source": [
    "from __future__ import print_function\n",
    "import argparse\n",
    "import numpy as np\n",
    "import os\n",
    "import shutil\n",
    "import time\n",
    "import math\n",
    "import matplotlib\n",
    "import matplotlib.pyplot as plt\n",
    "import matplotlib.gridspec as gridspec\n",
    "import os\n",
    "import pickle\n",
    "from benedict import BeneDict\n",
    "import copy\n",
    "import seaborn as sns\n",
    "from scipy.stats.stats import pearsonr\n",
    "from scipy.stats import linregress\n",
    "plt.style.use('seaborn')\n",
    "plt.style.use('seaborn-talk')\n",
    "\n",
    "%matplotlib inline\n",
    "%load_ext autoreload\n",
    "%autoreload 2"
   ]
  },
  {
   "cell_type": "code",
   "execution_count": 37,
   "metadata": {
    "collapsed": false
   },
   "outputs": [],
   "source": [
    "# Custom code\n",
    "import utils as U\n",
    "from generate_graph_structure import create_adjacency_matrix, flatten_correlation, granger_causality\n",
    "from dataloading import read_from_files, filter_data, normalize_by_behavior_report_type"
   ]
  },
  {
   "cell_type": "code",
   "execution_count": 57,
   "metadata": {
    "collapsed": false
   },
   "outputs": [
    {
     "name": "stdout",
     "output_type": "stream",
     "text": [
      "Reading files BAYLORGC4_2018_03_20.mat\n"
     ]
    }
   ],
   "source": [
    "savenames = ['BAYLORGC4_2018_03_20.mat',\n",
    "             'BAYLORGC4_2018_03_21.mat',\n",
    "             'BAYLORGC4_2018_03_22.mat',\n",
    "             'BAYLORGC4_2018_03_23.mat',\n",
    "             'BAYLORGC4_2018_03_25.mat',\n",
    "             'BAYLORGC12_2018_04_03.mat',\n",
    "             'BAYLORGC12_2018_04_04.mat',\n",
    "             'BAYLORGC12_2018_04_05.mat',\n",
    "             'BAYLORGC12_2018_04_06.mat',\n",
    "             'BAYLORGC13_2018_04_23.mat',\n",
    "             'BAYLORGC13_2018_04_24.mat',\n",
    "             'BAYLORGC13_2018_04_25.mat',\n",
    "             'BAYLORGC15_2018_05_07.mat',\n",
    "             'BAYLORGC15_2018_05_08.mat',\n",
    "             'BAYLORGC15_2018_05_09.mat',\n",
    "             'BAYLORGC15_2018_05_10.mat',\n",
    "             'BAYLORGC15_2018_05_11.mat',\n",
    "             'BAYLORGC17_2018_06_08.mat',\n",
    "             'BAYLORGC17_2018_06_11.mat',\n",
    "             'BAYLORGC18_2018_05_31.mat',\n",
    "             'BAYLORGC19_2018_06_20.mat',\n",
    "             'BAYLORGC19_2018_06_21.mat',\n",
    "             'BAYLORGC19_2018_06_22.mat'\n",
    "            ]\n",
    "# !!!!! Change here to generate graphs for different sessions\n",
    "all_file_to_read = [savenames[0]]\n",
    "print('Reading files {}'.format(', '.join(all_file_to_read)))\n",
    "all_data = read_from_files(all_file_to_read)"
   ]
  },
  {
   "cell_type": "code",
   "execution_count": 58,
   "metadata": {
    "collapsed": true
   },
   "outputs": [],
   "source": [
    "# !!!!! Change here to generate graphs for different perturbation conditions\n",
    "\n",
    "# The type of perturbation enforced\n",
    "## 0: no \n",
    "## 1: perturbation of left\n",
    "## 2: perturbation of right\n",
    "## 3: perturbation of both\n",
    "perturbation_type = 3 # or 1, 2, or 3\n",
    "\n",
    "\n",
    "# Only look at success trials when True\n",
    "# When there is bilarteral perturbation, the mice cannot act correctly, so we need to look at unsuccessful trials\n",
    "enforce_task_success = (perturbation_type != 3)\n",
    "# When there is no perturbation\n",
    "if perturbation_type == 0:\n",
    "    time_window = (22,37)\n",
    "else:\n",
    "# when there are perturbations, we use neural signals after the perturbations have ended\n",
    "    time_window = (31,37)"
   ]
  },
  {
   "cell_type": "code",
   "execution_count": 59,
   "metadata": {
    "collapsed": false
   },
   "outputs": [],
   "source": [
    "## Filter all the data depending on what we want\n",
    "all_data_filtered = [filter_data(data,\n",
    "                                 perturbation_type=perturbation_type,\n",
    "                                 enforce_task_success=enforce_task_success) for data in all_data]\n",
    "\n",
    "if perturbation_type != 3:\n",
    "    all_data_filtered = [normalize_by_behavior_report_type(data) for data in all_data_filtered]"
   ]
  },
  {
   "cell_type": "code",
   "execution_count": 60,
   "metadata": {
    "collapsed": false
   },
   "outputs": [
    {
     "name": "stdout",
     "output_type": "stream",
     "text": [
      "N, T, K:  42 55 84\n",
      "(84,)\n",
      "shape (84, 84)\n",
      "data [[ 0.         -0.05967649 -0.01388804 ... -0.04449896  0.07155616\n",
      "   0.0135864 ]\n",
      " [-0.05967649  0.          0.04846307 ...  0.39874644 -0.0109954\n",
      "   0.094638  ]\n",
      " [-0.01388804  0.04846307  0.         ...  0.03749899  0.14601873\n",
      "   0.02634175]\n",
      " ...\n",
      " [-0.04449896  0.39874644  0.03749899 ...  0.          0.03039032\n",
      "   0.25851356]\n",
      " [ 0.07155616 -0.0109954   0.14601873 ...  0.03039032  0.\n",
      "   0.22857714]\n",
      " [ 0.0135864   0.094638    0.02634175 ...  0.25851356  0.22857714\n",
      "   0.        ]]\n"
     ]
    },
    {
     "data": {
      "image/png": "[encoded data removed]",
      "text/plain": [
       "<Figure size 576x360 with 1 Axes>"
      ]
     },
     "metadata": {
      "needs_background": "light"
     },
     "output_type": "display_data"
    }
   ],
   "source": [
    "## Generates a graph using correlation\n",
    "mat_correlation = create_adjacency_matrix(all_data_filtered[0], edge_weight_func=flatten_correlation)\n",
    "## !! Symmetric\n",
    "print('shape', mat_correlation.shape)\n",
    "print('data', mat_correlation)\n",
    "f = plt.figure()\n",
    "plt.hist(mat_correlation.flatten())\n",
    "plt.title('Edge weight distribution, (edge weight is correlation between activations of neurons)')\n",
    "f.set_size_inches(8,5)\n",
    "plt.show()"
   ]
  },
  {
   "cell_type": "code",
   "execution_count": 61,
   "metadata": {
    "collapsed": false
   },
   "outputs": [
    {
     "name": "stdout",
     "output_type": "stream",
     "text": [
      "N, T, K:  42 55 84\n",
      "(84,)\n",
      "shape (84, 84)\n",
      "data [[0.         0.96876472 0.25944304 ... 0.94099185 0.93862716 0.84958154]\n",
      " [0.98599435 0.         0.95560187 ... 0.03522723 0.00429279 0.95256731]\n",
      " [0.05104946 0.98407387 0.         ... 0.78729325 0.99990551 0.99937192]\n",
      " ...\n",
      " [0.97581256 0.99998444 0.78789119 ... 0.         0.69092255 0.99999972]\n",
      " [0.99817549 0.84273411 0.5778815  ... 0.63590458 0.         0.99766341]\n",
      " [0.6830839  0.16083561 0.00143598 ... 0.84123094 0.9816607  0.        ]]\n"
     ]
    },
    {
     "data": {
      "image/png": "[encoded data removed]",
      "text/plain": [
       "<Figure size 576x360 with 1 Axes>"
      ]
     },
     "metadata": {
      "needs_background": "light"
     },
     "output_type": "display_data"
    }
   ],
   "source": [
    "## Generates a graph using granger_causality\n",
    "mat_granger = create_adjacency_matrix(all_data_filtered[0], edge_weight_func=granger_causality)\n",
    "## !! Not symmetric\n",
    "print('shape', mat_granger.shape)\n",
    "print('data', mat_granger)\n",
    "f = plt.figure()\n",
    "plt.hist(mat_granger.flatten())\n",
    "plt.title('Edge weight distribution, (edge weight (mat[v1, v2]) is probability that v1 causes v2)')\n",
    "f.set_size_inches(8,5)\n",
    "plt.show()"
   ]
  },
  {
   "cell_type": "code",
   "execution_count": null,
   "metadata": {
    "collapsed": true
   },
   "outputs": [],
   "source": []
  },
  {
   "cell_type": "code",
   "execution_count": null,
   "metadata": {
    "collapsed": true
   },
   "outputs": [],
   "source": []
  }
 ],
 "metadata": {
  "kernelspec": {
   "display_name": "224wproj",
   "language": "python",
   "name": "224wproj"
  },
  "language_info": {
   "codemirror_mode": {
    "name": "ipython",
    "version": 3
   },
   "file_extension": ".py",
   "mimetype": "text/x-python",
   "name": "python",
   "nbconvert_exporter": "python",
   "pygments_lexer": "ipython3",
   "version": "3.5.5"
  }
 },
 "nbformat": 4,
 "nbformat_minor": 0
}
