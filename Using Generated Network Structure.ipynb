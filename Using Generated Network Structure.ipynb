{
 "cells": [
  {
   "cell_type": "code",
   "execution_count": 27,
   "metadata": {},
   "outputs": [
    {
     "name": "stdout",
     "output_type": "stream",
     "text": [
      "The autoreload extension is already loaded. To reload it, use:\n",
      "  %reload_ext autoreload\n"
     ]
    }
   ],
   "source": [
    "from __future__ import print_function\n",
    "import argparse\n",
    "import numpy as np\n",
    "import os\n",
    "import shutil\n",
    "import time\n",
    "import math\n",
    "import matplotlib\n",
    "import matplotlib.pyplot as plt\n",
    "import matplotlib.gridspec as gridspec\n",
    "import os\n",
    "import pickle\n",
    "from benedict import BeneDict\n",
    "import copy\n",
    "import seaborn as sns\n",
    "from scipy.stats.stats import pearsonr\n",
    "from scipy.stats import linregress\n",
    "plt.style.use('seaborn')\n",
    "plt.style.use('seaborn-talk')\n",
    "\n",
    "%matplotlib inline\n",
    "%load_ext autoreload\n",
    "%autoreload 2"
   ]
  },
  {
   "cell_type": "code",
   "execution_count": 28,
   "metadata": {},
   "outputs": [],
   "source": [
    "# Custom code\n",
    "import utils as U\n",
    "from generate_graph_structure import create_adjacency_matrix, flatten_correlation, granger_causality, behavioral_prediction_correlation_wrapper\n",
    "from dataloading import read_from_files, filter_data, normalize_by_behavior_report_type"
   ]
  },
  {
   "cell_type": "code",
   "execution_count": 29,
   "metadata": {},
   "outputs": [
    {
     "name": "stdout",
     "output_type": "stream",
     "text": [
      "Reading files BAYLORGC4_2018_03_20.mat\n"
     ]
    }
   ],
   "source": [
    "savenames = ['BAYLORGC4_2018_03_20.mat',\n",
    "             'BAYLORGC4_2018_03_21.mat',\n",
    "             'BAYLORGC4_2018_03_22.mat',\n",
    "             'BAYLORGC4_2018_03_23.mat',\n",
    "             'BAYLORGC4_2018_03_25.mat',\n",
    "             'BAYLORGC12_2018_04_03.mat',\n",
    "             'BAYLORGC12_2018_04_04.mat',\n",
    "             'BAYLORGC12_2018_04_05.mat',\n",
    "             'BAYLORGC12_2018_04_06.mat',\n",
    "             'BAYLORGC13_2018_04_23.mat',\n",
    "             'BAYLORGC13_2018_04_24.mat',\n",
    "             'BAYLORGC13_2018_04_25.mat',\n",
    "             'BAYLORGC15_2018_05_07.mat',\n",
    "             'BAYLORGC15_2018_05_08.mat',\n",
    "             'BAYLORGC15_2018_05_09.mat',\n",
    "             'BAYLORGC15_2018_05_10.mat',\n",
    "             'BAYLORGC15_2018_05_11.mat',\n",
    "             'BAYLORGC17_2018_06_08.mat',\n",
    "             'BAYLORGC17_2018_06_11.mat',\n",
    "             'BAYLORGC18_2018_05_31.mat',\n",
    "             'BAYLORGC19_2018_06_20.mat',\n",
    "             'BAYLORGC19_2018_06_21.mat',\n",
    "             'BAYLORGC19_2018_06_22.mat'\n",
    "            ]\n",
    "# !!!!! Change here to generate graphs for different sessions\n",
    "all_file_to_read = [savenames[0]]\n",
    "print('Reading files {}'.format(', '.join(all_file_to_read)))\n",
    "all_data = read_from_files(all_file_to_read)"
   ]
  },
  {
   "cell_type": "code",
   "execution_count": 30,
   "metadata": {},
   "outputs": [],
   "source": [
    "# !!!!! Change here to generate graphs for different perturbation conditions\n",
    "\n",
    "# The type of perturbation enforced\n",
    "## 0: no \n",
    "## 1: perturbation of left\n",
    "## 2: perturbation of right\n",
    "## 3: perturbation of both\n",
    "perturbation_type = 3 # or 1, 2, or 3\n",
    "\n",
    "\n",
    "# Only look at success trials when True\n",
    "# When there is bilarteral perturbation, the mice cannot act correctly, so we need to look at unsuccessful trials\n",
    "enforce_task_success = (perturbation_type != 3)\n",
    "# When there is no perturbation\n",
    "if perturbation_type == 0:\n",
    "    time_window = (22,37)\n",
    "else:\n",
    "# when there are perturbations, we use neural signals after the perturbations have ended\n",
    "    time_window = (31,37)"
   ]
  },
  {
   "cell_type": "code",
   "execution_count": 31,
   "metadata": {},
   "outputs": [],
   "source": [
    "## Filter all the data depending on what we want\n",
    "all_data_filtered = [filter_data(data,\n",
    "                                 perturbation_type=perturbation_type,\n",
    "                                 enforce_task_success=enforce_task_success,\n",
    "                                 time_window=time_window) for data in all_data]\n",
    "\n",
    "if perturbation_type != 3:\n",
    "    all_data_filtered = [normalize_by_behavior_report_type(data) for data in all_data_filtered]"
   ]
  },
  {
   "cell_type": "code",
   "execution_count": 32,
   "metadata": {},
   "outputs": [
    {
     "name": "stdout",
     "output_type": "stream",
     "text": [
      "N, T, K:  42 6 84\n",
      "(84,)\n",
      "shape (84, 84)\n",
      "data [[ 0.          0.07888414 -0.02231537 ...  0.1718256   0.17513485\n",
      "  -0.07255093]\n",
      " [ 0.07888414  0.          0.05595667 ...  0.26198229 -0.22962061\n",
      "   0.08902678]\n",
      " [-0.02231537  0.05595667  0.         ...  0.06310165  0.12386642\n",
      "   0.01904184]\n",
      " ...\n",
      " [ 0.1718256   0.26198229  0.06310165 ...  0.         -0.12895877\n",
      "   0.22749555]\n",
      " [ 0.17513485 -0.22962061  0.12386642 ... -0.12895877  0.\n",
      "   0.06886092]\n",
      " [-0.07255093  0.08902678  0.01904184 ...  0.22749555  0.06886092\n",
      "   0.        ]]\n"
     ]
    },
    {
     "data": {
      "image/png": "[encoded data removed]",
      "text/plain": [
       "<matplotlib.figure.Figure at 0x120a6f908>"
      ]
     },
     "metadata": {},
     "output_type": "display_data"
    }
   ],
   "source": [
    "## Generates a graph using correlation\n",
    "mat_correlation = create_adjacency_matrix(all_data_filtered[0], edge_weight_func=flatten_correlation)\n",
    "## !! Symmetric\n",
    "print('shape', mat_correlation.shape)\n",
    "print('data', mat_correlation)\n",
    "f = plt.figure()\n",
    "plt.hist(mat_correlation.flatten())\n",
    "plt.title('Edge weight distribution, (edge weight is correlation between activations of neurons)')\n",
    "f.set_size_inches(8,5)\n",
    "plt.show()"
   ]
  },
  {
   "cell_type": "code",
   "execution_count": 33,
   "metadata": {},
   "outputs": [
    {
     "name": "stdout",
     "output_type": "stream",
     "text": [
      "N, T, K:  42 6 84\n",
      "(84,)\n",
      "shape (84, 84)\n",
      "data [[0.         0.98275389 0.         ... 0.86967538 0.51625097 0.79833324]\n",
      " [0.3427866  0.         0.20232229 ... 0.68931543 0.66371651 0.78777128]\n",
      " [0.09548716 0.99022383 0.         ... 0.66367847 0.82519619 0.31374427]\n",
      " ...\n",
      " [0.34919823 0.79522843 0.53291331 ... 0.         0.90028832 0.98624912]\n",
      " [0.92969339 0.2247122  0.59520166 ... 0.04972979 0.         0.1128367 ]\n",
      " [0.37045902 0.18743744 0.         ... 0.49627979 0.89811012 0.        ]]\n"
     ]
    },
    {
     "data": {
      "image/png": "[encoded data removed]",
      "text/plain": [
       "<matplotlib.figure.Figure at 0x11f79a550>"
      ]
     },
     "metadata": {},
     "output_type": "display_data"
    }
   ],
   "source": [
    "## Generates a graph using granger_causality\n",
    "mat_granger = create_adjacency_matrix(all_data_filtered[0], edge_weight_func=granger_causality)\n",
    "## !! Not symmetric\n",
    "print('shape', mat_granger.shape)\n",
    "print('data', mat_granger)\n",
    "f = plt.figure()\n",
    "plt.hist(mat_granger.flatten())\n",
    "plt.title('Edge weight distribution, (edge weight (mat[v1, v2]) is probability that v1 causes v2)')\n",
    "f.set_size_inches(8,5)\n",
    "plt.show()"
   ]
  },
  {
   "cell_type": "code",
   "execution_count": 34,
   "metadata": {},
   "outputs": [
    {
     "name": "stdout",
     "output_type": "stream",
     "text": [
      "N, T, K:  42 6 84\n",
      "(84,)\n",
      "shape (84, 84)\n",
      "data [[0.         0.64285714 1.         ... 1.         0.9047619  0.42857143]\n",
      " [0.64285714 0.         0.64285714 ... 0.64285714 0.54761905 0.5       ]\n",
      " [1.         0.64285714 0.         ... 1.         0.9047619  0.42857143]\n",
      " ...\n",
      " [1.         0.64285714 1.         ... 0.         0.9047619  0.42857143]\n",
      " [0.9047619  0.54761905 0.9047619  ... 0.9047619  0.         0.38095238]\n",
      " [0.42857143 0.5        0.42857143 ... 0.42857143 0.38095238 0.        ]]\n"
     ]
    },
    {
     "data": {
      "image/png": "[encoded data removed]",
      "text/plain": [
       "<matplotlib.figure.Figure at 0x11c56ef98>"
      ]
     },
     "metadata": {},
     "output_type": "display_data"
    }
   ],
   "source": [
    "## Generates a graph using granger_causality\n",
    "mat_behav_pred = create_adjacency_matrix(all_data_filtered[0], edge_weight_func=behavioral_prediction_correlation_wrapper(all_data_filtered[0]['behavior_report_type']))\n",
    "## symmetric\n",
    "print('shape', mat_behav_pred.shape)\n",
    "print('data', mat_behav_pred)\n",
    "f = plt.figure()\n",
    "connections = []\n",
    "for a in range(mat_behav_pred.shape[0]):\n",
    "    for b in range(mat_behav_pred.shape[1]):\n",
    "        if a != b:\n",
    "            connections.append(mat_behav_pred[a, b])\n",
    "connections = np.array(connections)\n",
    "plt.hist(connections)\n",
    "plt.title('Edge weight distribution, (edge weight (mat[v1, v2]) is probability that v1 causes v2)')\n",
    "f.set_size_inches(8,5)\n",
    "plt.show()"
   ]
  },
  {
   "cell_type": "code",
   "execution_count": 35,
   "metadata": {},
   "outputs": [
    {
     "name": "stdout",
     "output_type": "stream",
     "text": [
      "[[0.         0.64285714 1.         ... 1.         0.9047619  0.42857143]\n",
      " [0.64285714 0.         0.64285714 ... 0.64285714 0.54761905 0.5       ]\n",
      " [1.         0.64285714 0.         ... 1.         0.9047619  0.42857143]\n",
      " ...\n",
      " [1.         0.64285714 1.         ... 0.         0.9047619  0.42857143]\n",
      " [0.9047619  0.54761905 0.9047619  ... 0.9047619  0.         0.38095238]\n",
      " [0.42857143 0.5        0.42857143 ... 0.42857143 0.38095238 0.        ]]\n"
     ]
    }
   ],
   "source": [
    "print(mat_behav_pred)"
   ]
  },
  {
   "cell_type": "code",
   "execution_count": null,
   "metadata": {},
   "outputs": [],
   "source": []
  }
 ],
 "metadata": {
  "kernelspec": {
   "display_name": "Python 3",
   "language": "python",
   "name": "python3"
  },
  "language_info": {
   "codemirror_mode": {
    "name": "ipython",
    "version": 3
   },
   "file_extension": ".py",
   "mimetype": "text/x-python",
   "name": "python",
   "nbconvert_exporter": "python",
   "pygments_lexer": "ipython3",
   "version": "3.6.1"
  }
 },
 "nbformat": 4,
 "nbformat_minor": 1
}
