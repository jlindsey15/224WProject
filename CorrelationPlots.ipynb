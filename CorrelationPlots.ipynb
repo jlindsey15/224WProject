{
 "cells": [
  {
   "cell_type": "code",
   "execution_count": 1,
   "metadata": {},
   "outputs": [],
   "source": [
    "from __future__ import print_function\n",
    "import argparse\n",
    "import numpy as np\n",
    "import os\n",
    "import shutil\n",
    "import time\n",
    "import math\n",
    "import matplotlib\n",
    "import matplotlib.pyplot as plt\n",
    "import matplotlib.gridspec as gridspec\n",
    "import os\n",
    "import pickle\n",
    "from benedict import BeneDict\n",
    "import copy\n",
    "import seaborn as sns\n",
    "from scipy.stats.stats import pearsonr\n",
    "from scipy.stats import linregress\n",
    "plt.style.use('seaborn-muted')\n",
    "plt.style.use('seaborn-talk')\n",
    "\n",
    "%matplotlib inline\n",
    "%load_ext autoreload\n",
    "%autoreload 2"
   ]
  },
  {
   "cell_type": "code",
   "execution_count": 2,
   "metadata": {},
   "outputs": [],
   "source": [
    "# Custom code\n",
    "import utils as U\n",
    "from generate_graph_structure import create_adjacency_matrix, flatten_correlation, granger_causality, behavioral_prediction_correlation_wrapper\n",
    "from dataloading import read_from_files, filter_data, normalize_by_behavior_report_type"
   ]
  },
  {
   "cell_type": "code",
   "execution_count": 44,
   "metadata": {},
   "outputs": [
    {
     "name": "stdout",
     "output_type": "stream",
     "text": [
      "Reading files BAYLORGC4_2018_03_22.mat, BAYLORGC4_2018_03_21.mat, BAYLORGC4_2018_03_23.mat, BAYLORGC4_2018_03_20.mat, BAYLORGC4_2018_03_25.mat, BAYLORGC12_2018_04_03.mat, BAYLORGC12_2018_04_04.mat, BAYLORGC12_2018_04_05.mat, BAYLORGC12_2018_04_06.mat, BAYLORGC13_2018_04_23.mat, BAYLORGC13_2018_04_24.mat, BAYLORGC13_2018_04_25.mat, BAYLORGC15_2018_05_07.mat, BAYLORGC15_2018_05_08.mat, BAYLORGC15_2018_05_09.mat, BAYLORGC15_2018_05_10.mat, BAYLORGC15_2018_05_11.mat, BAYLORGC17_2018_06_08.mat, BAYLORGC17_2018_06_11.mat, BAYLORGC18_2018_05_31.mat, BAYLORGC19_2018_06_20.mat, BAYLORGC19_2018_06_21.mat, BAYLORGC19_2018_06_22.mat\n"
     ]
    }
   ],
   "source": [
    "\n",
    "\n",
    "savenames = ['BAYLORGC4_2018_03_22.mat', \n",
    "             'BAYLORGC4_2018_03_21.mat', \n",
    "             'BAYLORGC4_2018_03_23.mat', \n",
    "             'BAYLORGC4_2018_03_20.mat', \n",
    "             'BAYLORGC4_2018_03_25.mat', \n",
    "             'BAYLORGC12_2018_04_03.mat', \n",
    "             'BAYLORGC12_2018_04_04.mat',\n",
    "             'BAYLORGC12_2018_04_05.mat', 'BAYLORGC12_2018_04_06.mat', 'BAYLORGC13_2018_04_23.mat', 'BAYLORGC13_2018_04_24.mat', 'BAYLORGC13_2018_04_25.mat', 'BAYLORGC15_2018_05_07.mat', 'BAYLORGC15_2018_05_08.mat', 'BAYLORGC15_2018_05_09.mat', 'BAYLORGC15_2018_05_10.mat', 'BAYLORGC15_2018_05_11.mat', 'BAYLORGC17_2018_06_08.mat', 'BAYLORGC17_2018_06_11.mat', 'BAYLORGC18_2018_05_31.mat', 'BAYLORGC19_2018_06_20.mat', 'BAYLORGC19_2018_06_21.mat', 'BAYLORGC19_2018_06_22.mat']\n",
    "\n",
    "# !!!!! Change here to generate graphs for different sessions\n",
    "# all_file_to_read = [savenames[0]]\n",
    "all_file_to_read = savenames\n",
    "print('Reading files {}'.format(', '.join(all_file_to_read)))\n",
    "all_data = read_from_files(all_file_to_read)"
   ]
  },
  {
   "cell_type": "code",
   "execution_count": 45,
   "metadata": {},
   "outputs": [
    {
     "name": "stdout",
     "output_type": "stream",
     "text": [
      "normalizing\n",
      "N, T, K:  206 6 84\n",
      "(84,)\n",
      "normalizing\n",
      "N, T, K:  206 6 84\n",
      "(84,)\n",
      "N, T, K:  206 6 84\n",
      "(84,)\n",
      "normalizing\n",
      "N, T, K:  189 6 68\n",
      "(68,)\n",
      "normalizing\n",
      "N, T, K:  189 6 68\n",
      "(68,)\n",
      "N, T, K:  189 6 68\n",
      "(68,)\n",
      "normalizing\n",
      "N, T, K:  218 6 60\n",
      "(60,)\n",
      "normalizing\n",
      "N, T, K:  218 6 60\n",
      "(60,)\n",
      "N, T, K:  218 6 60\n",
      "(60,)\n",
      "normalizing\n",
      "N, T, K:  174 6 84\n",
      "(84,)\n",
      "normalizing\n",
      "N, T, K:  174 6 84\n",
      "(84,)\n",
      "N, T, K:  174 6 84\n",
      "(84,)\n",
      "normalizing\n",
      "N, T, K:  205 6 46\n",
      "(46,)\n",
      "normalizing\n",
      "N, T, K:  205 6 46\n",
      "(46,)\n",
      "N, T, K:  205 6 46\n",
      "(46,)\n",
      "normalizing\n",
      "N, T, K:  187 6 31\n",
      "(31,)\n",
      "normalizing\n",
      "N, T, K:  187 6 31\n",
      "(31,)\n",
      "N, T, K:  187 6 31\n",
      "(31,)\n",
      "normalizing\n",
      "N, T, K:  101 6 75\n",
      "(75,)\n",
      "normalizing\n",
      "N, T, K:  101 6 75\n",
      "(75,)\n",
      "N, T, K:  101 6 75\n",
      "(75,)\n",
      "normalizing\n",
      "N, T, K:  131 6 75\n",
      "(75,)\n",
      "normalizing\n",
      "N, T, K:  131 6 75\n",
      "(75,)\n",
      "N, T, K:  131 6 75\n",
      "(75,)\n",
      "normalizing\n",
      "N, T, K:  191 6 33\n",
      "(33,)\n"
     ]
    },
    {
     "name": "stderr",
     "output_type": "stream",
     "text": [
      "/Library/Frameworks/Python.framework/Versions/3.6/lib/python3.6/site-packages/scipy/stats/stats.py:3021: RuntimeWarning: invalid value encountered in double_scalars\n",
      "  r = r_num / r_den\n"
     ]
    },
    {
     "name": "stdout",
     "output_type": "stream",
     "text": [
      "normalizing\n",
      "N, T, K:  191 6 33\n",
      "(33,)\n"
     ]
    },
    {
     "name": "stderr",
     "output_type": "stream",
     "text": [
      "/Library/Frameworks/Python.framework/Versions/3.6/lib/python3.6/site-packages/scipy/stats/_stats_mstats_common.py:106: RuntimeWarning: invalid value encountered in double_scalars\n",
      "  slope = r_num / ssxm\n",
      "/Library/Frameworks/Python.framework/Versions/3.6/lib/python3.6/site-packages/scipy/stats/_stats_mstats_common.py:118: RuntimeWarning: invalid value encountered in double_scalars\n",
      "  sterrest = np.sqrt((1 - r**2) * ssym / ssxm / df)\n",
      "/Library/Frameworks/Python.framework/Versions/3.6/lib/python3.6/site-packages/scipy/stats/_stats_mstats_common.py:118: RuntimeWarning: divide by zero encountered in double_scalars\n",
      "  sterrest = np.sqrt((1 - r**2) * ssym / ssxm / df)\n"
     ]
    },
    {
     "name": "stdout",
     "output_type": "stream",
     "text": [
      "N, T, K:  191 6 33\n",
      "(33,)\n",
      "normalizing\n",
      "N, T, K:  123 6 52\n",
      "(52,)\n",
      "normalizing\n",
      "N, T, K:  123 6 52\n",
      "(52,)\n",
      "N, T, K:  123 6 52\n",
      "(52,)\n",
      "normalizing\n",
      "N, T, K:  144 6 38\n",
      "(38,)\n",
      "normalizing\n",
      "N, T, K:  144 6 38\n",
      "(38,)\n",
      "N, T, K:  144 6 38\n",
      "(38,)\n",
      "normalizing\n",
      "N, T, K:  164 6 47\n",
      "(47,)\n",
      "normalizing\n",
      "N, T, K:  164 6 47\n",
      "(47,)\n",
      "N, T, K:  164 6 47\n",
      "(47,)\n",
      "normalizing\n",
      "N, T, K:  154 6 50\n",
      "(50,)\n",
      "normalizing\n",
      "N, T, K:  154 6 50\n",
      "(50,)\n",
      "N, T, K:  154 6 50\n",
      "(50,)\n",
      "normalizing\n",
      "N, T, K:  63 6 57\n",
      "(57,)\n",
      "normalizing\n",
      "N, T, K:  63 6 57\n",
      "(57,)\n",
      "N, T, K:  63 6 57\n",
      "(57,)\n",
      "normalizing\n",
      "N, T, K:  121 6 110\n",
      "(110,)\n",
      "normalizing\n",
      "N, T, K:  121 6 110\n",
      "(110,)\n",
      "N, T, K:  121 6 110\n",
      "(110,)\n",
      "normalizing\n",
      "N, T, K:  111 6 76\n",
      "(76,)\n",
      "normalizing\n",
      "N, T, K:  111 6 76\n",
      "(76,)\n",
      "N, T, K:  111 6 76\n",
      "(76,)\n",
      "normalizing\n",
      "N, T, K:  180 6 44\n",
      "(44,)\n",
      "normalizing\n",
      "N, T, K:  180 6 44\n",
      "(44,)\n",
      "N, T, K:  180 6 44\n",
      "(44,)\n",
      "normalizing\n",
      "N, T, K:  159 6 124\n",
      "(124,)\n",
      "normalizing\n",
      "N, T, K:  159 6 124\n",
      "(124,)\n",
      "N, T, K:  159 6 124\n",
      "(124,)\n",
      "normalizing\n",
      "N, T, K:  27 6 129\n",
      "(129,)\n",
      "normalizing\n",
      "N, T, K:  27 6 129\n",
      "(129,)\n",
      "N, T, K:  27 6 129\n",
      "(129,)\n",
      "normalizing\n",
      "N, T, K:  150 6 131\n",
      "(131,)\n",
      "normalizing\n",
      "N, T, K:  150 6 131\n",
      "(131,)\n",
      "N, T, K:  150 6 131\n",
      "(131,)\n",
      "normalizing\n",
      "N, T, K:  124 6 109\n",
      "(109,)\n",
      "normalizing\n",
      "N, T, K:  124 6 109\n",
      "(109,)\n",
      "N, T, K:  124 6 109\n",
      "(109,)\n",
      "normalizing\n",
      "N, T, K:  73 6 73\n",
      "(73,)\n",
      "normalizing\n",
      "N, T, K:  73 6 73\n",
      "(73,)\n",
      "N, T, K:  73 6 73\n",
      "(73,)\n",
      "normalizing\n",
      "N, T, K:  159 6 89\n",
      "(89,)\n",
      "normalizing\n",
      "N, T, K:  159 6 89\n",
      "(89,)\n",
      "N, T, K:  159 6 89\n",
      "(89,)\n"
     ]
    }
   ],
   "source": [
    "# !!!!! Change here to generate graphs for different perturbation conditions\n",
    "\n",
    "# The type of perturbation enforced\n",
    "## 0: no \n",
    "## 1: perturbation of left\n",
    "## 2: perturbation of right\n",
    "## 3: perturbation of both\n",
    "\n",
    "def binned(values, value_range):\n",
    "    counts = np.array([0 for x in value_range])\n",
    "    for value in values:\n",
    "        for i in range(len(value_range)):\n",
    "            if value > value_range[i]:\n",
    "                counts[i] += 1\n",
    "    counts = counts[:-1] - counts[1:]\n",
    "    return counts\n",
    "\n",
    "perturbation_type = 0 # or 1, 2, or 3\n",
    "perturbation_type_names = ['No Perturbation', 'Left Perturbation', 'Right Perturbation', 'Bilateral Perturbation']\n",
    "perturbation_type_name = perturbation_type_names[perturbation_type]\n",
    "\n",
    "# Only look at success trials when True\n",
    "# When there is bilarteral perturbation, the mice cannot act correctly, so we need to look at unsuccessful trials\n",
    "enforce_task_success = (perturbation_type != 3)\n",
    "# When there is no perturbation\n",
    "if perturbation_type == 3:\n",
    "    time_window = (22,37)\n",
    "else:\n",
    "# when there are perturbations, we use neural signals after the perturbations have ended\n",
    "    time_window = (31,37)\n",
    "    \n",
    "## Filter all the data depending on what we want\n",
    "all_data_filtered = [filter_data(data,\n",
    "                                 perturbation_type=0,\n",
    "                                 enforce_task_success=enforce_task_success,\n",
    "                                 time_window=time_window) for data in all_data]\n",
    "\n",
    "\n",
    "\n",
    "eps = 0.05\n",
    "neuron_locations = all_data_filtered[0].neuron_locations\n",
    "session_name = all_data_filtered[0].name\n",
    "methods = [[flatten_correlation, granger_causality, behavioral_prediction_correlation_wrapper(all_data_filtered[i]['behavior_report_type'])] for i in range(23)]\n",
    "mats = [[create_adjacency_matrix(all_data_filtered[i], edge_weight_func=x, perturbation_type=perturbation_type) for x in methods[i]] for i in range(23)]\n",
    "method_names = ['Correlation', 'Causality', 'Behavioral Prediction Similarity']\n",
    "\n"
   ]
  },
  {
   "cell_type": "code",
   "execution_count": 46,
   "metadata": {},
   "outputs": [
    {
     "name": "stdout",
     "output_type": "stream",
     "text": [
      "hi\n"
     ]
    }
   ],
   "source": [
    "\n",
    "\n",
    "print('hi')\n",
    "#accuracy = [np.mean(all_data_filtered[i]['behavior_report']) for i in range(23)]\n"
   ]
  },
  {
   "cell_type": "code",
   "execution_count": 6,
   "metadata": {},
   "outputs": [],
   "source": []
  },
  {
   "cell_type": "code",
   "execution_count": 8,
   "metadata": {},
   "outputs": [
    {
     "name": "stdout",
     "output_type": "stream",
     "text": [
      "N, T, K:  51 15 84\n",
      "(84,)\n",
      "N, T, K:  51 15 84\n",
      "(84,)\n",
      "N, T, K:  51 15 84\n",
      "(84,)\n"
     ]
    }
   ],
   "source": [
    "\n",
    "\n"
   ]
  },
  {
   "cell_type": "code",
   "execution_count": 22,
   "metadata": {},
   "outputs": [
    {
     "name": "stdout",
     "output_type": "stream",
     "text": [
      "(84, 84) (84, 84) (84, 84)\n",
      "(68, 68) (68, 68) (68, 68)\n",
      "(84, 84) (84, 84) (84, 84)\n",
      "(60, 60) (60, 60) (60, 60)\n",
      "(46, 46) (46, 46) (46, 46)\n",
      "(31, 31) (31, 31) (31, 31)\n",
      "(75, 75) (75, 75) (75, 75)\n",
      "(75, 75) (75, 75) (75, 75)\n",
      "(33, 33) (33, 33) (33, 33)\n",
      "(52, 52) (52, 52) (52, 52)\n",
      "(38, 38) (38, 38) (38, 38)\n",
      "(47, 47) (47, 47) (47, 47)\n",
      "(50, 50) (50, 50) (50, 50)\n",
      "(57, 57) (57, 57) (57, 57)\n",
      "(110, 110) (110, 110) (110, 110)\n",
      "(76, 76) (76, 76) (76, 76)\n",
      "(44, 44) (44, 44) (44, 44)\n",
      "(124, 124) (124, 124) (124, 124)\n",
      "(129, 129) (129, 129) (129, 129)\n",
      "(131, 131) (131, 131) (131, 131)\n",
      "(109, 109) (109, 109) (109, 109)\n",
      "(73, 73) (73, 73) (73, 73)\n",
      "(89, 89) (89, 89) (89, 89)\n"
     ]
    }
   ],
   "source": [
    "for mat in mats:\n",
    "    print(mat[0].shape, mat[1].shape, mat[2].shape)\n",
    "    \n"
   ]
  },
  {
   "cell_type": "code",
   "execution_count": 120,
   "metadata": {},
   "outputs": [
    {
     "name": "stdout",
     "output_type": "stream",
     "text": [
      "[0.82978723 0.63043478 0.66666667 0.72340426 0.82978723 0.73913043\n",
      " 0.81481481 0.975      0.68627451 0.80769231 0.42222222 0.6744186\n",
      " 0.5        0.66666667 0.84848485 0.67741935 0.76086957 0.54347826\n",
      " 0.85714286 0.85714286 0.71875    0.35       0.7173913 ]\n"
     ]
    },
    {
     "data": {
      "image/png": "[encoded data removed]",
      "text/plain": [
       "<matplotlib.figure.Figure at 0x11bd7b470>"
      ]
     },
     "metadata": {},
     "output_type": "display_data"
    },
    {
     "data": {
      "image/png": "[encoded data removed]",
      "text/plain": [
       "<matplotlib.figure.Figure at 0x11966fe10>"
      ]
     },
     "metadata": {},
     "output_type": "display_data"
    },
    {
     "data": {
      "image/png": "[encoded data removed]",
      "text/plain": [
       "<matplotlib.figure.Figure at 0x11d0a6e80>"
      ]
     },
     "metadata": {},
     "output_type": "display_data"
    }
   ],
   "source": [
    "import matplotlib.pyplot as plt\n",
    "from scipy.stats import pearsonr\n",
    "import networkx as nx\n",
    "\n",
    "a = np.load('PredDiffs.npy')\n",
    "b = a.tolist()\n",
    "c = np.load('CDRecovery.npy')\n",
    "d = c.tolist()\n",
    "l_biclass = np.array(b['Left Bi Class'])\n",
    "r_biclass = np.array(b['Right Bi Class'])\n",
    "fc_n = np.array(b['No Stim FC'])\n",
    "fc_l = np.array(b['Left Stim FC'])\n",
    "fc_r = np.array(b['Right Stim FC'])\n",
    "fc_b = np.array(b['Bi Stim FC'])\n",
    "recovery_l = np.array(d['recovery_L'])#np.array(b['Left Stim FC'])\n",
    "recovery_r = np.array(d['recovery_R'])#np.array(b['Right Stim FC'])\n",
    "percent_diff = np.array(b['Percent Diff'])\n",
    "'''\n",
    "ccs = {}\n",
    "ccs[0] = []\n",
    "ccs[1] = []\n",
    "ccs[2] = []\n",
    "\n",
    "for mat in mats:\n",
    "    for i in range(3):\n",
    "        G=nx.Graph()\n",
    "        for a in range(mat[i].shape[0]):\n",
    "            for b in range(mat[i].shape[1]):\n",
    "                G.add_edge(a, b, weight=mat[i][a, b])\n",
    "        #G=nx.from_numpy_matrix(mat[i])\n",
    "        #print(G.edges())\n",
    "        ccs[i].append(nx.average_clustering(G, weight='weight'))\n",
    "        print(ccs[i][-1])\n",
    "'''\n",
    "print(l_biclass)\n",
    "e_strength = np.array([np.mean(mat[0]) for mat in mats])\n",
    "mask = ~np.isnan(e_strength)\n",
    "plt.scatter(e_strength[mask], fc_n[mask])\n",
    "plt.title(pearsonr(e_strength[mask], fc_n[mask]))\n",
    "plt.show()\n",
    "\n",
    "\n",
    "e_strength = np.array([np.mean(mat[0]) for mat in mats])\n",
    "mask = ~np.isnan(e_strength)\n",
    "plt.scatter(e_strength[mask], recovery_l[mask] + recovery_r[mask])\n",
    "plt.title(pearsonr(e_strength[mask], recovery_l[mask] + recovery_r[mask]))\n",
    "plt.show()\n",
    "\n",
    "\n",
    "clust_rel = np.array(ccs[0]) / np.array([np.mean(mat[0]) for mat in mats])\n",
    "mask = ~np.isnan(clust_rel)\n",
    "plt.scatter(clust_rel[mask], 1 - percent_diff[mask])\n",
    "plt.title(pearsonr(clust_rel[mask], 1 - percent_diff[mask]))\n",
    "plt.show()\n",
    "\n",
    "\n",
    "\n",
    "\n",
    "\n",
    "\n",
    "\n",
    "\n",
    "\n"
   ]
  },
  {
   "cell_type": "code",
   "execution_count": 82,
   "metadata": {},
   "outputs": [
    {
     "name": "stdout",
     "output_type": "stream",
     "text": [
      "hi\n"
     ]
    }
   ],
   "source": [
    "print('hi')"
   ]
  },
  {
   "cell_type": "code",
   "execution_count": null,
   "metadata": {},
   "outputs": [],
   "source": []
  }
 ],
 "metadata": {
  "kernelspec": {
   "display_name": "Python 3",
   "language": "python",
   "name": "python3"
  },
  "language_info": {
   "codemirror_mode": {
    "name": "ipython",
    "version": 3
   },
   "file_extension": ".py",
   "mimetype": "text/x-python",
   "name": "python",
   "nbconvert_exporter": "python",
   "pygments_lexer": "ipython3",
   "version": "3.6.1"
  }
 },
 "nbformat": 4,
 "nbformat_minor": 1
}
